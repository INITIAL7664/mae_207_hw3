{
 "cells": [
  {
   "cell_type": "code",
   "execution_count": null,
   "metadata": {},
   "outputs": [],
   "source": [
    "# Team 12\n",
    "# Names: Kexiong Wu, Bo Xiao\n",
    "\n",
    "\n",
    "# Project constraints\n",
    "# You will be allowed to use elastic elements (springs and rubber bands) in your robot.\n",
    "# We will measure peak jump height over a 10s period.\n",
    "# Repeated jumps are encouraged.\n",
    "# Jump control can be closed-loop or open-loop."
   ]
  },
  {
   "cell_type": "code",
   "execution_count": null,
   "metadata": {},
   "outputs": [],
   "source": [
    "# Import the robot class we are developing\n",
    "import robot"
   ]
  },
  {
   "cell_type": "code",
   "execution_count": 2,
   "metadata": {},
   "outputs": [
    {
     "name": "stdout",
     "output_type": "stream",
     "text": [
      "Connected!\n",
      "here2\n"
     ]
    }
   ],
   "source": [
    "# Make a new leg variable which is a robot.Leg class\n",
    "leg = robot.Leg()"
   ]
  },
  {
   "cell_type": "code",
   "execution_count": 3,
   "metadata": {},
   "outputs": [],
   "source": [
    "import odrive.core\n",
    "import time\n",
    "import math\n",
    "import numpy as np\n",
    "import matplotlib.pyplot as plt\n",
    "# For symbolic processing\n",
    "import sympy\n",
    "from sympy import symbols\n",
    "from sympy import sin, cos, asin, acos, pi\n",
    "from sympy.utilities.lambdify import lambdify\n",
    "from sympy import Matrix"
   ]
  },
  {
   "cell_type": "code",
   "execution_count": 4,
   "metadata": {},
   "outputs": [
    {
     "name": "stdout",
     "output_type": "stream",
     "text": [
      "1.5709791642050943 1.569350310722523\n"
     ]
    }
   ],
   "source": [
    "leg.get_joint_pos()\n",
    "(x, y) = (leg.joint_0_pos, leg.joint_1_pos)\n",
    "\n",
    "print(x, y)"
   ]
  },
  {
   "cell_type": "code",
   "execution_count": 5,
   "metadata": {},
   "outputs": [],
   "source": [
    "leg.set_joint_pos(x, y)"
   ]
  },
  {
   "cell_type": "code",
   "execution_count": 6,
   "metadata": {},
   "outputs": [],
   "source": [
    "# Set motor current\n",
    "curr = 5\n",
    "\n",
    "# Set some calibration paramaters\n",
    "\n",
    "a = 1.60\n",
    "b = 0.20\n",
    "c = 1.00\n",
    "d = 0.80"
   ]
  },
  {
   "cell_type": "code",
   "execution_count": 7,
   "metadata": {},
   "outputs": [],
   "source": [
    "import time\n",
    "\n",
    "# Repeat this motion five times in order to make full use of elastic potential energy\n",
    "\n",
    "leg.set_joint_pos(a * x, b * y, 0, 0, curr, -curr)\n",
    "time.sleep(0.5)\n",
    "leg.set_joint_pos(c * x, d * y, 0, 0, -curr, curr)\n",
    "time.sleep(0.2)\n",
    "\n",
    "leg.set_joint_pos((a + 0.05) * x, (b - 0.05) * y, 0, 0, curr, -curr)\n",
    "time.sleep(0.55)\n",
    "leg.set_joint_pos(c * x, d * y, 0, 0, -curr, curr)\n",
    "time.sleep(0.2)\n",
    "\n",
    "leg.set_joint_pos((a + 0.05) * x, (b - 0.05) * y, 0, 0, curr, -curr)\n",
    "time.sleep(0.6)\n",
    "leg.set_joint_pos(c * x, d * y, 0, 0, -curr, curr)\n",
    "time.sleep(0.2)\n",
    "\n",
    "leg.set_joint_pos((a + 0.05) * x, (b - 0.05) * y, 0, 0, curr, -curr)\n",
    "time.sleep(0.65)\n",
    "leg.set_joint_pos(c * x, d * y, 0, 0, -curr, curr)\n",
    "time.sleep(0.2)\n",
    "\n",
    "leg.set_joint_pos((a + 0.05) * x, (b - 0.05) * y, 0, 0, curr, -curr)\n",
    "time.sleep(0.7)\n",
    "leg.set_joint_pos(c * x, d * y, 0, 0, -curr, curr)\n",
    "time.sleep(0.15)"
   ]
  },
  {
   "cell_type": "code",
   "execution_count": 8,
   "metadata": {},
   "outputs": [
    {
     "data": {
      "image/jpeg": "[encoded data removed]",
      "text/html": [
       "\n",
       "        <iframe\n",
       "            width=\"400\"\n",
       "            height=\"300\"\n",
       "            src=\"https://www.youtube.com/embed/rZ0yHjyYd48\"\n",
       "            frameborder=\"0\"\n",
       "            allowfullscreen\n",
       "        ></iframe>\n",
       "        "
      ],
      "text/plain": [
       "<IPython.lib.display.YouTubeVideo at 0x20a050457b8>"
      ]
     },
     "execution_count": 8,
     "metadata": {},
     "output_type": "execute_result"
    }
   ],
   "source": [
    "#youtube video import\n",
    "from IPython.lib.display import YouTubeVideo\n",
    "YouTubeVideo('rZ0yHjyYd48')"
   ]
  },
  {
   "cell_type": "code",
   "execution_count": null,
   "metadata": {},
   "outputs": [],
   "source": []
  }
 ],
 "metadata": {
  "kernelspec": {
   "display_name": "Python 3",
   "language": "python",
   "name": "python3"
  },
  "language_info": {
   "codemirror_mode": {
    "name": "ipython",
    "version": 3
   },
   "file_extension": ".py",
   "mimetype": "text/x-python",
   "name": "python",
   "nbconvert_exporter": "python",
   "pygments_lexer": "ipython3",
   "version": "3.6.4"
  }
 },
 "nbformat": 4,
 "nbformat_minor": 2
}
